{
  "nbformat": 4,
  "nbformat_minor": 0,
  "metadata": {
    "colab": {
      "provenance": [],
      "authorship_tag": "ABX9TyMvBw4ydhosWUMb9jtpoWdL",
      "include_colab_link": true
    },
    "kernelspec": {
      "name": "python3",
      "display_name": "Python 3"
    },
    "language_info": {
      "name": "python"
    }
  },
  "cells": [
    {
      "cell_type": "markdown",
      "metadata": {
        "id": "view-in-github",
        "colab_type": "text"
      },
      "source": [
        "<a href=\"https://colab.research.google.com/github/JorgeTiconaSanga/data-science-portfolio/blob/main/data_science.ipynb\" target=\"_parent\"><img src=\"https://colab.research.google.com/assets/colab-badge.svg\" alt=\"Open In Colab\"/></a>"
      ]
    },
    {
      "cell_type": "markdown",
      "source": [
        "##INGEST"
      ],
      "metadata": {
        "id": "Q9tMFegC5JO0"
      }
    },
    {
      "cell_type": "code",
      "source": [
        "import pandas as pd"
      ],
      "metadata": {
        "id": "VjrrkeHh5r4I"
      },
      "execution_count": 1,
      "outputs": []
    },
    {
      "cell_type": "markdown",
      "source": [
        "##EDA"
      ],
      "metadata": {
        "id": "LS-7zuNt5bw3"
      }
    },
    {
      "cell_type": "code",
      "source": [],
      "metadata": {
        "id": "wP09Qpsn5uBs"
      },
      "execution_count": null,
      "outputs": []
    },
    {
      "cell_type": "markdown",
      "source": [
        "##MODELING"
      ],
      "metadata": {
        "id": "Gi79_VZe5dDC"
      }
    },
    {
      "cell_type": "code",
      "source": [],
      "metadata": {
        "id": "M9pDOQeS5vUB"
      },
      "execution_count": null,
      "outputs": []
    },
    {
      "cell_type": "markdown",
      "source": [
        "##CONCLUSION"
      ],
      "metadata": {
        "id": "jJR18V876FD2"
      }
    },
    {
      "cell_type": "code",
      "source": [],
      "metadata": {
        "id": "l32ME5JC6Hs2"
      },
      "execution_count": null,
      "outputs": []
    }
  ]
}